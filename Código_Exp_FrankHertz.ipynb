{
 "cells": [
  {
   "cell_type": "markdown",
   "id": "d75c2587",
   "metadata": {},
   "source": [
    "EXPERIMENTO FRANK HERTZ"
   ]
  },
  {
   "cell_type": "code",
   "execution_count": null,
   "id": "0effc1a5",
   "metadata": {},
   "outputs": [],
   "source": []
  }
 ],
 "metadata": {
  "language_info": {
   "name": "python"
  }
 },
 "nbformat": 4,
 "nbformat_minor": 5
}
